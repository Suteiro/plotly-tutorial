{
 "metadata": {
  "language_info": {
   "codemirror_mode": {
    "name": "ipython",
    "version": 3
   },
   "file_extension": ".py",
   "mimetype": "text/x-python",
   "name": "python",
   "nbconvert_exporter": "python",
   "pygments_lexer": "ipython3",
   "version": "3.7.9"
  },
  "orig_nbformat": 2,
  "kernelspec": {
   "name": "python379jvsc74a57bd0670b733a350b17713ebf0e6fcb90908b2c8eee9c883689cb298b0c0e109feac4",
   "display_name": "Python 3.7.9 64-bit ('py37': conda)"
  }
 },
 "nbformat": 4,
 "nbformat_minor": 2,
 "cells": [
  {
   "cell_type": "code",
   "execution_count": 1,
   "metadata": {},
   "outputs": [],
   "source": [
    "import collections\n",
    "import dash\n",
    "import pandas as pd\n",
    "\n",
    "from dash.dependencies import Output, Input\n",
    "from dash.exceptions import PreventUpdate\n",
    "\n",
    "import dash_html_components as html\n",
    "import dash_core_components as dcc\n",
    "import dash_table"
   ]
  },
  {
   "cell_type": "code",
   "execution_count": 4,
   "metadata": {},
   "outputs": [],
   "source": [
    "app = dash.Dash(__name__)\n",
    "df = pd.read_csv('https://raw.githubusercontent.com/plotly/datasets/master/gapminderDataFiveYear.csv')\n",
    "countries = set(df['country'])"
   ]
  },
  {
   "cell_type": "code",
   "execution_count": 3,
   "metadata": {},
   "outputs": [],
   "source": [
    "app.layout = html.Div([\n",
    "    dcc.Store(id='memory-output'),\n",
    "    dcc.Dropdown(id='memory-countries', options=[\n",
    "        {'value': x, 'label': x} for x in countries\n",
    "    ], multi=True, value=['Canada', 'United States']),\n",
    "    dcc.Dropdown(id='memory-field', options=[\n",
    "        {'value': 'lifeExp', 'label': 'Life expectancy'},\n",
    "        {'value': 'gdpPercap', 'label': 'GDP per capita'},\n",
    "    ], value='lifeExp'),\n",
    "    html.Div([\n",
    "        dcc.Graph(id='memory-graph'),\n",
    "        dash_table.DataTable(\n",
    "            id='memory-table',\n",
    "            columns=[{'name': i, 'id': i} for i in df.columns]\n",
    "        ),\n",
    "    ])\n",
    "])"
   ]
  },
  {
   "cell_type": "code",
   "execution_count": 5,
   "metadata": {},
   "outputs": [],
   "source": [
    "@app.callback(Output('memory-output', 'data'),\n",
    "              Input('memory-countries', 'value'))\n",
    "def filter_countries(countries_selected):\n",
    "    if not countries_selected:\n",
    "        # Return all the rows on initial load/no country selected.\n",
    "        return df.to_dict('records')\n",
    "    filtered = df.query('country in @countries_selected')\n",
    "    return filtered.to_dict('records')"
   ]
  },
  {
   "cell_type": "code",
   "execution_count": 6,
   "metadata": {},
   "outputs": [],
   "source": [
    "@app.callback(Output('memory-table', 'data'),\n",
    "              Input('memory-output', 'data'))\n",
    "def on_data_set_table(data):\n",
    "    if data is None:\n",
    "        raise PreventUpdate\n",
    "    return data"
   ]
  },
  {
   "cell_type": "code",
   "execution_count": 7,
   "metadata": {},
   "outputs": [],
   "source": [
    "\n",
    "@app.callback(Output('memory-graph', 'figure'),\n",
    "              Input('memory-output', 'data'),\n",
    "              Input('memory-field', 'value'))\n",
    "def on_data_set_graph(data, field):\n",
    "    if data is None:\n",
    "        raise PreventUpdate\n",
    "\n",
    "    aggregation = collections.defaultdict(\n",
    "        lambda: collections.defaultdict(list)\n",
    "    )\n",
    "\n",
    "    for row in data:\n",
    "\n",
    "        a = aggregation[row['country']]\n",
    "\n",
    "        a['name'] = row['country']\n",
    "        a['mode'] = 'lines+markers'\n",
    "\n",
    "        a['x'].append(row[field])\n",
    "        a['y'].append(row['year'])\n",
    "\n",
    "    return {\n",
    "        'data': [x for x in aggregation.values()]\n",
    "    }"
   ]
  },
  {
   "cell_type": "code",
   "execution_count": 10,
   "metadata": {},
   "outputs": [
    {
     "output_type": "stream",
     "name": "stdout",
     "text": [
      "Dash is running on http://127.0.0.1:10450/\n",
      "\n",
      "Dash is running on http://127.0.0.1:10450/\n",
      "\n",
      " * Serving Flask app \"__main__\" (lazy loading)\n",
      " * Environment: production\n",
      "\u001b[31m   WARNING: This is a development server. Do not use it in a production deployment.\u001b[0m\n",
      "\u001b[2m   Use a production WSGI server instead.\u001b[0m\n",
      " * Debug mode: on\n"
     ]
    },
    {
     "output_type": "error",
     "ename": "SystemExit",
     "evalue": "2",
     "traceback": [
      "An exception has occurred, use %tb to see the full traceback.\n",
      "\u001b[0;31mSystemExit\u001b[0m\u001b[0;31m:\u001b[0m 2\n"
     ]
    }
   ],
   "source": [
    "app.run_server(debug=True, threaded=True, port=10450)"
   ]
  },
  {
   "cell_type": "code",
   "execution_count": null,
   "metadata": {},
   "outputs": [],
   "source": []
  }
 ]
}